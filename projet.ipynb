{
 "cells": [
  {
   "attachments": {},
   "cell_type": "markdown",
   "metadata": {},
   "source": [
    "# Project LINMA1731: Tracking a ship at sea \n",
    "\n",
    "# Part 1: Acceleration Noise Estimation \n",
    "\n",
    "In this first part of the project we want to estimate random acceleration noise that is caused by uncontrollable factors. We assume that this noise follows a Gumbel distribution at each time step k.\n",
    "\n",
    "The cdf of the Gumbel distribution is: \n",
    "\n",
    "$F(x; \\mu, \\beta) = e^{-e^{-(x-\\mu)/\\beta}}$ \n",
    "\n",
    "And its pdf is: \n",
    "\n",
    "$f(x; \\mu, \\beta) = \\frac{1}{\\beta}e^{-(z+e^{-z})}$ where $ z=frac{(x- \\mu)}{\\beta}$\n",
    "\n",
    "The Gumbel distribution is thus characterized by the location parameter $\\mu$ and the scale parameter $\\beta$. We will assume that the parameters are location and time invariant and we will try to estimate them from empirical observations. \n",
    "    "
   ]
  },
  {
   "attachments": {},
   "cell_type": "markdown",
   "metadata": {},
   "source": [
    "First, let us assume that the scale parameter is known as β = 1. Let wi\n",
    ", i = 1, · · · , N be\n",
    "the realizations from the distribution Gumbel(µ, 1).\n",
    "\n",
    "---\n",
    "a) Derive the maximum likelihood estimator of \\mu based on these N observations "
   ]
  },
  {
   "attachments": {},
   "cell_type": "markdown",
   "metadata": {},
   "source": [
    "Answer:"
   ]
  },
  {
   "attachments": {},
   "cell_type": "markdown",
   "metadata": {},
   "source": [
    "b) Show that this estimator is consistent. (Hint: Use the weak law of large numbers. Use\n",
    "the Gamma function for the integration.)\n"
   ]
  },
  {
   "attachments": {},
   "cell_type": "markdown",
   "metadata": {},
   "source": [
    "Answer:"
   ]
  }
 ],
 "metadata": {
  "language_info": {
   "name": "python"
  },
  "orig_nbformat": 4
 },
 "nbformat": 4,
 "nbformat_minor": 2
}
